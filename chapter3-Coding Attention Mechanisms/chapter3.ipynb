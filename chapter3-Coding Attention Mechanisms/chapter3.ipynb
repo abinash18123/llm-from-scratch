{
 "cells": [
  {
   "cell_type": "markdown",
   "id": "9fecdad9",
   "metadata": {},
   "source": [
    "<h2 style=\"font-size: 24px; font-weight: bold; color: #2E86AB; margin-bottom: 15px;\">3.3.1 A simple self-attention mechanism without trainable weights</h2>"
   ]
  },
  {
   "cell_type": "code",
   "execution_count": 2,
   "id": "cc4c1db0",
   "metadata": {},
   "outputs": [],
   "source": [
    "import torch\n",
    "inputs = torch.tensor(\n",
    "[[0.43, 0.15, 0.89], # Your (x1)\n",
    "[0.55, 0.87, 0.66], # journey (x2)\n",
    "[0.57, 0.85, 0.64], # starts (x3)\n",
    "[0.22, 0.58, 0.33], # with (x4)\n",
    "[0.77, 0.25, 0.10], # one (x5)\n",
    "[0.05, 0.80, 0.55]] # step (x6)\n",
    ")"
   ]
  },
  {
   "cell_type": "code",
   "execution_count": 3,
   "id": "b1e539ed",
   "metadata": {},
   "outputs": [
    {
     "name": "stdout",
     "output_type": "stream",
     "text": [
      "tensor([0.9995, 0.9544, 0.9422, 0.4753, 0.4576, 0.6310])\n"
     ]
    }
   ],
   "source": [
    "query = inputs[0]\n",
    "attn_scores_2 = torch.empty(inputs.shape[0])\n",
    "for i,x_i in enumerate(inputs):\n",
    "    attn_scores_2[i] = torch.dot(query,x_i)\n",
    "print(attn_scores_2)"
   ]
  },
  {
   "cell_type": "markdown",
   "id": "5f5bfc1b",
   "metadata": {},
   "source": [
    "<h3 style=\"font-size: 20px; font-weight: bold; color: #4A90A4; margin-bottom: 12px;\">Normalize</h3>"
   ]
  },
  {
   "cell_type": "code",
   "execution_count": 10,
   "id": "4779b0b2",
   "metadata": {},
   "outputs": [
    {
     "name": "stdout",
     "output_type": "stream",
     "text": [
      "tensor([0.2098, 0.2006, 0.1981, 0.1242, 0.1220, 0.1452])\n",
      "tensor([0.2098, 0.2006, 0.1981, 0.1242, 0.1220, 0.1452])\n"
     ]
    }
   ],
   "source": [
    "def softmax_naive(x):\n",
    "    return torch.exp(x) / torch.exp(x).sum(dim=0)\n",
    "attn_weights2_naive = softmax_naive(attn_scores_2)\n",
    "print(attn_weights2_naive)\n",
    "\n",
    "attn_weights2 = torch.softmax(attn_scores_2, dim=0)\n",
    "print(attn_weights2)\n"
   ]
  },
  {
   "cell_type": "code",
   "execution_count": 12,
   "id": "a989774d",
   "metadata": {},
   "outputs": [
    {
     "name": "stdout",
     "output_type": "stream",
     "text": [
      "tensor([0.4421, 0.5931, 0.5790])\n"
     ]
    }
   ],
   "source": [
    "query = inputs[1]\n",
    "context_vec_2 = torch.zeros(query.shape)\n",
    "for i,x_i in enumerate(inputs):\n",
    "    context_vec_2 += attn_weights2[i] * x_i\n",
    "print(context_vec_2)"
   ]
  },
  {
   "cell_type": "markdown",
   "id": "6ced57b9",
   "metadata": {},
   "source": [
    "<h2 style=\"font-size: 24px; font-weight: bold; color: #2E86AB; margin-bottom: 15px;\">3.3.2 Computing attention weights for all input tokens</h2>"
   ]
  },
  {
   "cell_type": "code",
   "execution_count": 14,
   "id": "b596ed4e",
   "metadata": {},
   "outputs": [
    {
     "name": "stdout",
     "output_type": "stream",
     "text": [
      "tensor([[0.4421, 0.5931, 0.5790],\n",
      "        [0.4419, 0.6515, 0.5683],\n",
      "        [0.4431, 0.6496, 0.5671],\n",
      "        [0.4304, 0.6298, 0.5510],\n",
      "        [0.4671, 0.5910, 0.5266],\n",
      "        [0.4177, 0.6503, 0.5645]])\n"
     ]
    }
   ],
   "source": [
    "attn_scores = inputs @ inputs.T\n",
    "attn_scores = torch.softmax(attn_scores, dim=-1)\n",
    "attn_scores =  attn_scores @ inputs\n",
    "print(attn_scores)"
   ]
  },
  {
   "cell_type": "markdown",
   "id": "069eda61",
   "metadata": {},
   "source": [
    "<h2 style=\"font-size: 24px; font-weight: bold; color: #2E86AB; margin-bottom: 15px;\">3.4 Implementing self-attention with trainable weights</h2>"
   ]
  },
  {
   "cell_type": "code",
   "execution_count": null,
   "id": "93f0d710",
   "metadata": {},
   "outputs": [],
   "source": []
  }
 ],
 "metadata": {
  "kernelspec": {
   "display_name": "retouching",
   "language": "python",
   "name": "python3"
  },
  "language_info": {
   "codemirror_mode": {
    "name": "ipython",
    "version": 3
   },
   "file_extension": ".py",
   "mimetype": "text/x-python",
   "name": "python",
   "nbconvert_exporter": "python",
   "pygments_lexer": "ipython3",
   "version": "3.11.8"
  }
 },
 "nbformat": 4,
 "nbformat_minor": 5
}
